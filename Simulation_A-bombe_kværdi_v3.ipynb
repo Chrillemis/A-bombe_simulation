{
 "cells": [
  {
   "cell_type": "code",
   "execution_count": 14,
   "metadata": {},
   "outputs": [],
   "source": [
    "import numpy as np\n",
    "import pandas as pd\n",
    "from numpy import random\n",
    "import matplotlib.pyplot as plt\n",
    "from scipy.integrate import simps\n",
    "import seaborn as sns\n",
    "import scipy.stats as ss\n",
    "from scipy.interpolate import  interp1d\n",
    "from scipy import interpolate\n",
    "import math\n",
    "sns.set_theme()"
   ]
  },
  {
   "attachments": {},
   "cell_type": "markdown",
   "metadata": {},
   "source": [
    "<h1> Data indhentning"
   ]
  },
  {
   "cell_type": "code",
   "execution_count": 15,
   "metadata": {},
   "outputs": [],
   "source": [
    "data_raw = np.genfromtxt('livechart3.csv', delimiter=',',skip_header=1)\n",
    "data_pd = pd.DataFrame(data_raw)\n",
    "data_without_nan = data_pd.dropna(subset=[7])\n",
    "u235_proton = np.array(data_without_nan[0].values.tolist())\n",
    "u235_nucleus = np.array(data_without_nan[1].values.tolist())\n",
    "u235_yield = np.array(data_without_nan[7].values.tolist())/np.sum(np.array(data_without_nan[7].values.tolist()))"
   ]
  },
  {
   "cell_type": "code",
   "execution_count": 16,
   "metadata": {},
   "outputs": [],
   "source": [
    "#Data for atomic mass ,index_col=0\n",
    "data_atomic_mass = pd.DataFrame(pd.read_csv('tester3.csv',sep=';'))\n",
    "list_atomic_mass = data_atomic_mass.values.tolist()\n",
    "\n",
    "#Dataen er lidt mærkelig, så jeg kan ikke bare udtage en kolonne, og derudover skal dataen renses lidt.\n",
    "protons = []\n",
    "nucleus = []\n",
    "#Massen er i mikro u\n",
    "atomic_mass = []\n",
    "\n",
    "for i in range(len(list_atomic_mass)):\n",
    "    protons.append(list_atomic_mass[i][3])\n",
    "    nucleus.append(list_atomic_mass[i][4])\n",
    "    #Der forekommer mellem rum, # og så skal komma skiftes til punktum, som decimal seperator. Derudover skal den konverteres\n",
    "    # til en float i stedet for en string.\n",
    "    atomic_mass.append(float(list_atomic_mass[i][-2].replace('#','').replace(',','.').replace(' ','')))\n",
    "\n",
    "#Tingene er bare nemmere som numpy array\n",
    "protons = np.array(protons)\n",
    "nucleus = np.array(nucleus)\n",
    "#Konvertering fra mikro u til MeV/c^2\n",
    "atomic_mass = np.array(atomic_mass)*10**(-6)*931.4941\n",
    "#Konverteringsfaktor fra amu til Mev/c^2\n",
    "#*931.4941\n",
    "#Neutrones masse omregnes fra amu til MeV/c^2\n",
    "neutron_mass = 1.008665*931.4941\n",
    "#u235 masse bruges meget så den defineres.\n",
    "u235_mass = atomic_mass[(protons == 92)& (nucleus ==235)]\n",
    "u236_mass = atomic_mass[(protons == 92)& (nucleus ==236)]"
   ]
  },
  {
   "cell_type": "code",
   "execution_count": 17,
   "metadata": {},
   "outputs": [
    {
     "name": "stdout",
     "output_type": "stream",
     "text": [
      "[4.84232037e+22]\n"
     ]
    }
   ],
   "source": [
    "#Først kolonne er neutron energien i eV og andet kolonne er cross section i barns. Der er sket noget mærkeligt i data import så elastisk starter først ved 74.\n",
    "elastic_cross =  np.genfromtxt('Elastic_cross.txt',skip_header=74,delimiter=',')\n",
    "fission_cross =  np.genfromtxt('Fission_cross.txt',skip_header=1,delimiter=',')\n",
    "neutron_cap_cross = np.genfromtxt('Neutron_cap_cross.txt',skip_header=1,delimiter=',')\n",
    "\n",
    "#Den interpolerede funktion skabes, og dataen omregnes til MeV, og barns omregnes til cm^2\n",
    "elastic_cross_int = interpolate.interp1d(elastic_cross[:,0]*10**(-6),elastic_cross[:,1]*10**(-24))\n",
    "fission_cross_int = interpolate.interp1d(fission_cross[:,0]*10**(-6),fission_cross[:,1]*10**(-24))\n",
    "neutron_cap_cross_int = interpolate.interp1d(neutron_cap_cross[:,0]*10**(-6),neutron_cap_cross[:,1]*10**(-24))\n",
    "\n",
    "#Den atomiske densitet beregnes for U235\n",
    "#Fra g/cm^3\n",
    "rho235 = 18.9\n",
    "#atomer pr mol\n",
    "N_A = 6.022*10**(23)\n",
    "#Molar masse er blot u235 atom masse i u.\n",
    "u235_M = u235_mass/(931.4941)\n",
    "N_u235 = (rho235 * N_A)/u235_M\n",
    "#atomer pr cm^3\n",
    "print(N_u235)"
   ]
  },
  {
   "attachments": {},
   "cell_type": "markdown",
   "metadata": {},
   "source": [
    "<h1> Fissions funktion"
   ]
  },
  {
   "cell_type": "code",
   "execution_count": 18,
   "metadata": {},
   "outputs": [],
   "source": [
    "#Definere rangen for vores sandsynlighedsfordeling\n",
    "x = np.linspace(0.0, 10.0, 10**4)\n",
    "\n",
    "#Definere vores pdf\n",
    "def p(x):\n",
    "\treturn 0.4865*np.sinh(np.sqrt(2*x))*np.exp(-x)\n",
    "\n",
    "#Den normaliseres, hvilket gøres ved simps\n",
    "norm_constant = simps(p(x), x)\n",
    "\n",
    "#pdf og cdf defineres, i sample form\n",
    "own_pdf = p(x)/norm_constant\n",
    "own_cdf = np.cumsum(own_pdf); own_cdf /= max(own_cdf)\n",
    "\n",
    "#Funktionen der defineres, returnere N samples fra fordelingen\n",
    "def genSamples(N):\n",
    "\tu = np.random.uniform(0, 1, int(N))\n",
    "\tfunc_interp = interp1d(own_cdf, x)\n",
    "\tsamples = func_interp(u)\n",
    "\treturn samples"
   ]
  },
  {
   "cell_type": "code",
   "execution_count": 19,
   "metadata": {},
   "outputs": [
    {
     "name": "stdout",
     "output_type": "stream",
     "text": [
      "[[89.0, 35.0, 82834.7006282201], [145.0, 57.0, 134993.8091738799], 2.0, [0.3426998815306034, 4.362353964930265], 173.9569833331043]\n"
     ]
    }
   ],
   "source": [
    "def fission():\n",
    "    #På grund af tertiær fission(tror jeg det hedder), så vil den nogle gange give fejl. Derfor så kører funktionen bare indtil det virker:)\n",
    "    while True:\n",
    "        try:\n",
    "            #Første isotop vælges ud fra yield dataen\n",
    "            first_product = np.random.choice(u235_yield, p = u235_yield.tolist())\n",
    "            #Vi finder index af første isotop, så proton og nukleon tal nemmere kan findes.\n",
    "            first_product_index = np.where(u235_yield == first_product)\n",
    "            #Rest protoner og neutroner beregnes, så den tilsvarende dattekerne kan vælges\n",
    "            rest_proton = 92-u235_proton[first_product_index] \n",
    "            rest_neutron = 236-u235_nucleus[first_product_index]\n",
    "\n",
    "            #Der oprettes en maske der udvælger kandidaterne for datterkerne.\n",
    "            #Den vælger grundstoffet med den rette mængde protoner, og så tillader den isotoper der har 0,1,2,3 eller 4 neutroner.\n",
    "            mask_neutron = (u235_nucleus <= rest_neutron) & (u235_nucleus > rest_neutron-5)\n",
    "            mask_proton = u235_proton == rest_proton\n",
    "            mask = mask_neutron & mask_proton\n",
    "            #Yield dataen udvælges og normaliseres\n",
    "            tempa = u235_yield[mask]/np.sum(u235_yield[mask])\n",
    "            #Andet isotop udvælges\n",
    "            second_product = np.random.choice(u235_yield[mask],p = tempa.tolist())\n",
    "            #Index findes\n",
    "            second_product_index = np.where(u235_yield == second_product)\n",
    "\n",
    "            #Opretter det array der skal returners, gør det bare mere overskueligt.\n",
    "\n",
    "            first_product_mass = atomic_mass[(protons ==u235_proton[first_product_index][0]) & (nucleus ==u235_nucleus[first_product_index][0])]\n",
    "            second_product_mass = atomic_mass[(protons ==u235_proton[second_product_index][0]) & (nucleus ==u235_nucleus[second_product_index][0])]\n",
    "\n",
    "            f_a = [[u235_nucleus[first_product_index][0],u235_proton[first_product_index][0],first_product_mass[0]],[u235_nucleus[second_product_index][0],u235_proton[second_product_index][0],second_product_mass[0]]]\n",
    "            \n",
    "            #Antal neutroner der udsendes findes\n",
    "            neutrons_produced =236 -u235_nucleus[first_product_index] - u235_nucleus[second_product_index]\n",
    "            f_a.append(neutrons_produced[0])\n",
    "            neutron_E = genSamples(neutrons_produced)\n",
    "            f_a.append(neutron_E.tolist())\n",
    "\n",
    "            #q værdien beregnes\n",
    "            q_value = u235_mass + neutron_mass  - neutrons_produced*neutron_mass - first_product_mass - second_product_mass\n",
    "            f_a.append(q_value[0])\n",
    "            \n",
    "            return f_a\n",
    "        except:\n",
    "            continue\n",
    "#Returnere et array med alt informationen om fissionsprocessen\n",
    "#[0] Proton og nukleon tal for første isotop\n",
    "#[1] Proton og nukleon tal for andet isotop\n",
    "#[2] Antal neutroner produceret\n",
    "#[3] Array med neutronernes energi\n",
    "#[4] q værdi, altså massen konverteret til energi, direkte efterfission. Energi fra henfald senere er ikke med\n",
    "print(fission())"
   ]
  },
  {
   "attachments": {},
   "cell_type": "markdown",
   "metadata": {},
   "source": [
    "<h1> Reaktor geometri"
   ]
  },
  {
   "cell_type": "code",
   "execution_count": 46,
   "metadata": {},
   "outputs": [
    {
     "name": "stdout",
     "output_type": "stream",
     "text": [
      "neutronbreak for fuelradius 8.33\n",
      "neutronbreak for fuelradius 11.67\n",
      "neutronbreak for fuelradius 12.78\n",
      "neutronbreak for fuelradius 13.89\n",
      "neutronbreak for fuelradius 15.0\n",
      "neutronbreak for fuelradius 9.44\n",
      "neutronbreak for fuelradius 10.56\n",
      "neutronbreak for fuelradius 11.67\n",
      "neutronbreak for fuelradius 12.78\n",
      "neutronbreak for fuelradius 13.89\n",
      "neutronbreak for fuelradius 15.0\n",
      "neutronbreak for fuelradius 10.56\n",
      "neutronbreak for fuelradius 11.67\n",
      "neutronbreak for fuelradius 12.78\n",
      "neutronbreak for fuelradius 13.89\n",
      "neutronbreak for fuelradius 15.0\n",
      "neutronbreak for fuelradius 10.56\n",
      "neutronbreak for fuelradius 11.67\n",
      "neutronbreak for fuelradius 12.78\n",
      "neutronbreak for fuelradius 13.89\n",
      "neutronbreak for fuelradius 15.0\n",
      "neutronbreak for fuelradius 12.78\n",
      "neutronbreak for fuelradius 13.89\n",
      "neutronbreak for fuelradius 15.0\n"
     ]
    }
   ],
   "source": [
    "#Fuel cellens radius i cm\n",
    "datagns = 5 #Antal datapunkter der averages over\n",
    "kværdier = []\n",
    "Radier = []\n",
    "\n",
    "for sup in range(datagns):\n",
    "    antal = 10 #Antal datapunkter\n",
    "    minr = 5 #minradius\n",
    "    maxr = 15 #maxradius\n",
    "    for hej in range(antal):\n",
    "        r_fuel = np.linspace(minr, maxr, antal)[hej]\n",
    "        class Neutron:\n",
    "            Masse = neutron_mass #Class variable\n",
    "            \n",
    "            def __init__(selv, Energi):\n",
    "                selv.Energi = Energi #Instance variable\n",
    "                selv.Tid = 0 #Tid er den tid den har eksisteret.\n",
    "                selv.Intereaktionstid = selv.inttid() #Intereaktionstiden beregnes\n",
    "                selv.x , selv.y, selv.z = selv.position() #Position findes\n",
    "                selv.direction_theta = 2*np.pi*np.random.uniform(0,1) #Neutronens retning findes\n",
    "                selv.direction_phi = np.pi*np.random.uniform(0,1) #Neutronens retning findes\n",
    "                selv.Tid_til_ude = selv.distance_to_boundary()/selv.fart() #Vi finder tiden før den er ude af reaktoren\n",
    "\n",
    "            #En funktion der giver den nye værdier for de rigtige ting efter der har scattered\n",
    "            #Måske skal man kigge lidt mere på scattering vinkel og scattering energi\n",
    "            def scattering(selv):\n",
    "                selv.Tid = 0 \n",
    "                angle_deflection_theta = 2*np.pi*np.random.uniform(0,1) \n",
    "                angle_deflection_phi = np.pi*np.random.uniform(0,1)\n",
    "                vec1 = ((selv.x)**2+(selv.y)**2+(selv.z)**2)*np.array([np.sin(angle_deflection_phi)*np.cos(angle_deflection_theta),np.sin(angle_deflection_phi)*np.sin(angle_deflection_theta),np.cos(angle_deflection_phi)])\n",
    "                selv.x += np.cos(selv.direction_theta)*np.sin(selv.direction_phi)*selv.Intereaktionstid*selv.fart()\n",
    "                selv.y += np.sin(selv.direction_theta)*np.sin(selv.direction_theta)*selv.Intereaktionstid*selv.fart()\n",
    "                selv.z += np.cos(selv.direction_phi)*selv.Intereaktionstid*selv.fart()\n",
    "                selv.direction_theta += angle_deflection_theta\n",
    "                selv.direction_phi += angle_deflection_phi\n",
    "                vec2 = ((selv.x)**2+(selv.y)**2+(selv.z)**2)*np.array([np.sin(selv.direction_phi)*np.cos(selv.direction_theta),np.sin(selv.direction_theta)*np.sin(selv.direction_phi),np.cos(selv.direction_phi)])\n",
    "                angle_deflection = np.arccos(np.clip(abs(np.dot(vec1,vec2)), -1, 1))\n",
    "                ny_E =selv.Energi/(u235_mass+1)**2 *(np.cos(angle_deflection)+np.sqrt(abs(u235_mass**2-np.sin(angle_deflection)*np.sin(angle_deflection))))**2\n",
    "                tabt_e = selv.Energi - ny_E\n",
    "                selv.Energi = ny_E\n",
    "                selv.Tid_til_ude = selv.distance_to_boundary()/selv.fart()\n",
    "                selv.Intereaktionstid = selv.inttid() \n",
    "                return tabt_e\n",
    "\n",
    "            #Funktion der giver positionen af neutronen\n",
    "            def position(selv):\n",
    "                r = r_fuel*(np.random.uniform(0,1))**(1/3) #Positionen af neutronen findes i polære koordinater\n",
    "                theta = 2*np.pi*np.random.uniform(0,1)\n",
    "                phi = np.pi*np.random.uniform(0,1)\n",
    "                x = r*np.cos(theta)*np.sin(phi) #Omregnes til karteisiske\n",
    "                y= r*np.sin(theta)*np.sin(phi)\n",
    "                z = r*np.cos(phi)\n",
    "                return x, y, z\n",
    "            \n",
    "            #Funktion der beregner afstanden til den har undsluppet fuel/kerne.\n",
    "            #Det er blot at finde skæringen mellem en linje og en cirkel, hvor der bruges en parameterfremstlilling\n",
    "            def distance_to_boundary(selv):\n",
    "                b = 2*(np.sin(selv.direction_phi)*(np.cos(selv.direction_theta)*selv.x+np.sin(selv.direction_theta)*selv.y)+np.cos(selv.direction_phi)*selv.z)\n",
    "                c = (selv.x)**2 + (selv.y)**2 + (selv.z)**2 - (r_fuel)**2\n",
    "                t1 = (-b + np.sqrt(abs(b**2 - 4*c)))/2\n",
    "                t2 = (-b - np.sqrt(abs(b**2 - 4*c)))/2\n",
    "                if t1 < t2:\n",
    "                    x_ = np.cos(selv.direction_theta)*np.sin(selv.direction_phi)*t2 + selv.x\n",
    "                    y_ = np.sin(selv.direction_theta)*np.sin(selv.direction_phi)*t2 + selv.y\n",
    "                    z_ = np.cos(selv.direction_phi)*t2 + selv.z\n",
    "                    d = np.sqrt(abs((selv.x - x_)**2 + (selv.y - y_)**2 + (selv.z - z_)**2))\n",
    "                else:\n",
    "                    x_ = np.cos(selv.direction_theta)*np.sin(selv.direction_phi)*t1 + selv.x\n",
    "                    y_ = np.sin(selv.direction_theta)*np.sin(selv.direction_phi)*t1 + selv.y\n",
    "                    z_ = np.cos(selv.direction_phi)*t1 + selv.z\n",
    "                    d = np.sqrt(abs((selv.x - x_)**2 + (selv.y - y_)**2 + (selv.z - z_)**2))\n",
    "                return d\n",
    "\n",
    "            def fart(selv):\n",
    "                #Giver farten i cm/s\n",
    "                return 1.383*10**7 * np.sqrt(selv.Energi)*100\n",
    "\n",
    "            #Beregner Sigma total\n",
    "            def total_makro(selv):\n",
    "                return N_u235*neutron_cap_cross_int(selv.Energi) + N_u235*elastic_cross_int(selv.Energi) + N_u235*fission_cross_int(selv.Energi)\n",
    "\n",
    "\n",
    "            #En funktion der giver en intereaktionstid til neutronen\n",
    "            def inttid(selv):\n",
    "                mu = np.random.uniform(0,1)\n",
    "                t =-np.log(1-mu)/(selv.fart() * selv.total_makro())\n",
    "                return t\n",
    "\n",
    "        class Atom:\n",
    "\n",
    "            def __init__(selv, Nukleontal, Protontal, Masse):\n",
    "                selv.Nukleontal = Nukleontal\n",
    "                selv.Protontal = Protontal\n",
    "                selv.Masse = Masse            \n",
    "                \n",
    "                \n",
    "        start_neutroner = 100        \n",
    "        Neutroner = [] #Startneutroner\n",
    "        for i in range(start_neutroner):\n",
    "            Neutroner.append(Neutron(np.random.uniform(1,3)))\n",
    "        #Neutroner = [Neutron(1)]\n",
    "        Datterkerner = []\n",
    "        Neutroner_ude = []\n",
    "        Scattering = 0\n",
    "        Capture = 0\n",
    "        Aktive_neutroner = []\n",
    "        Ude_neutroner_t = []\n",
    "        Tid = []\n",
    "        Fri_energi = []\n",
    "        Q = []\n",
    "        t = 0\n",
    "        #Omregningsfaktor\n",
    "        k =10**(-9)\n",
    "        dt = 0.01*k\n",
    "        Neutrons_produced = 0\n",
    "        Neutrons_lost = 0\n",
    "        while t<400*k:\n",
    "            for i in range(len(Neutroner)):\n",
    "                #Neutronen undslipper\n",
    "                if Neutroner[i].Tid_til_ude < Neutroner[i].Tid:\n",
    "                    Neutroner_ude.append(Neutroner[i])\n",
    "                    Neutroner[i] = 0 #Vi fjerner neutronen der blev brugt til fissionen\n",
    "                elif Neutroner[i].Tid > Neutroner[i].Intereaktionstid:\n",
    "                    mu = np.random.uniform(0,1)\n",
    "                    #Den totale makroskopiske cross section beregnes.\n",
    "                    cap_mac = N_u235*neutron_cap_cross_int(Neutroner[i].Energi)\n",
    "                    e_mac = N_u235*elastic_cross_int(Neutroner[i].Energi)\n",
    "                    f_mac = N_u235*fission_cross_int(Neutroner[i].Energi)\n",
    "                    total_mac = cap_mac + e_mac + f_mac\n",
    "                    #Fission\n",
    "                    if 0 < mu and mu < f_mac/total_mac:\n",
    "                        f = fission() #Vi får et array med alt information om fissionen\n",
    "                        Q.append(f[4]+Neutroner[i].Energi-sum(f[3])) #Vi tilføjer q værdien til listen\n",
    "                        for j in range(int(f[2])): #Vi tilføjer de nye neutroner til listen\n",
    "                            n_temp = Neutron(f[3][j]) #De nye neutroner skal have samme start position\n",
    "                            n_temp.x = Neutroner[i].x +np.cos(Neutroner[i].direction_theta)*np.sin(Neutroner[i].direction_phi)*Neutroner[i].Intereaktionstid*Neutroner[i].fart()\n",
    "                            n_temp.y = Neutroner[i].y +np.sin(Neutroner[i].direction_theta)*np.sin(Neutroner[i].direction_phi)*Neutroner[i].Intereaktionstid*Neutroner[i].fart()\n",
    "                            n_temp.y = Neutroner[i].z +np.cos(Neutroner[i].direction_phi)*Neutroner[i].Intereaktionstid*Neutroner[i].fart()\n",
    "                            n_temp.Tid_til_ude = n_temp.distance_to_boundary()/n_temp.fart()\n",
    "                            Neutroner.append(n_temp)\n",
    "                        for j in range(2): #Vi tilføjer de nye atomer til listen\n",
    "                            Datterkerner.append(Atom(f[j][0],f[j][1],f[j][2]))\n",
    "                        Neutroner[i] = 0 #Vi fjerner neutronen der blev brugt til fissionen\n",
    "\n",
    "                    #Neutron capture\n",
    "                    elif f_mac/total_mac < mu  and mu < (f_mac + cap_mac)/total_mac:\n",
    "                        #Sker neutron capture, og den nye kerne\n",
    "                        Datterkerner.append(Atom(236,92,u236_mass))\n",
    "                        Q.append(Neutroner[i].Energi)\n",
    "                        Neutroner[i] = 0\n",
    "                        Capture += 1\n",
    "\n",
    "                    #Scattering\n",
    "                    elif (f_mac + cap_mac)/total_mac < mu < 1:  \n",
    "                        Q.append(Neutroner[i].scattering())\n",
    "                        Scattering += 1\n",
    "                elif len(Neutroner) > 0:\n",
    "                    Neutroner[i].Tid += dt\n",
    "            Neutroner =  [i for i in Neutroner if i != 0]\n",
    "            Aktive_neutroner.append(len(Neutroner))\n",
    "            Ude_neutroner_t.append(len(Neutroner_ude))\n",
    "            Tid.append(t)\n",
    "            t = t+dt\n",
    "            if len(Neutroner) > 5000:\n",
    "                # print(\"neutronbreak for fuelradius\",round(r_fuel,2))\n",
    "                break\n",
    "        # print((Aktive_neutroner[-1]+Ude_neutroner_t[-1]-start_neutroner)/Ude_neutroner_t[-1], \"for r_fuel\",round(r_fuel,2))\n",
    "        kværdier.append((Aktive_neutroner[-1]+Ude_neutroner_t[-1]-start_neutroner)/Ude_neutroner_t[-1])\n",
    "        Radier.append(r_fuel)\n",
    "    "
   ]
  },
  {
   "cell_type": "code",
   "execution_count": 79,
   "metadata": {},
   "outputs": [
    {
     "name": "stdout",
     "output_type": "stream",
     "text": [
      "[0.42857143 0.57446809 0.46524064 2.3915389  0.67948718 0.88636364\n",
      " 1.7962993  1.42996228 1.40139059 1.70275308 0.23076923 0.55752212\n",
      " 0.4011976  0.73753281 2.47444378 2.12379642 1.72925959 1.90261414\n",
      " 1.73921569 1.40450087 0.29078014 0.52606635 0.49494949 0.67532468\n",
      " 0.82964225 2.69443484 2.26195373 1.64053312 1.59778238 1.54075218\n",
      " 0.19354839 0.41520468 0.57805907 0.609375   0.71830986 2.46376379\n",
      " 2.22605651 1.48554169 1.58446509 1.44885063 0.29078014 0.4011976\n",
      " 0.48186528 0.45355191 0.53051643 0.8654105  0.84051037 1.4191453\n",
      " 1.3399681  1.36792736]\n",
      "[0.42857143 0.23076923 0.29078014 0.19354839 0.29078014]\n"
     ]
    }
   ],
   "source": [
    "kværdier = np.array(kværdier)\n",
    "print(kværdier)\n",
    "print(kværdier[0:-1:10])"
   ]
  },
  {
   "cell_type": "code",
   "execution_count": 108,
   "metadata": {},
   "outputs": [
    {
     "data": {
      "image/png": "[encoded data removed]",
      "text/plain": [
       "<Figure size 640x480 with 1 Axes>"
      ]
     },
     "metadata": {},
     "output_type": "display_data"
    }
   ],
   "source": [
    "Y, Yerr = [], []\n",
    "for j in range(antal):\n",
    "    Y.append(np.mean(kværdier[j:-1:10]))\n",
    "    Yerr.append(np.std(kværdier[j:-1:10])/np.sqrt(antal))\n",
    "\n",
    "plt.errorbar(Radier[:antal],Y, Yerr, fmt = \".\")\n",
    "plt.xlabel(\"Radius\")\n",
    "plt.ylabel(\"Kværdi\")\n",
    "plt.axhline(y = 1, color = 'black', linestyle = '-', label = 'k = 1')\n",
    "plt.legend()\n",
    "plt.title(\"Kritisk radius for kugle af U235\")\n",
    "plt.show()"
   ]
  },
  {
   "attachments": {},
   "cell_type": "markdown",
   "metadata": {},
   "source": [
    "<h1> Klasser"
   ]
  },
  {
   "cell_type": "code",
   "execution_count": 26,
   "metadata": {},
   "outputs": [
    {
     "ename": "ValueError",
     "evalue": "x and y must have same first dimension, but have shapes (746,) and (747,)",
     "output_type": "error",
     "traceback": [
      "\u001b[1;31m---------------------------------------------------------------------------\u001b[0m",
      "\u001b[1;31mValueError\u001b[0m                                Traceback (most recent call last)",
      "Cell \u001b[1;32mIn[26], line 3\u001b[0m\n\u001b[0;32m      1\u001b[0m \u001b[39mfor\u001b[39;00m i \u001b[39min\u001b[39;00m \u001b[39mrange\u001b[39m(\u001b[39mlen\u001b[39m(k_value)):\n\u001b[0;32m      2\u001b[0m     X \u001b[39m=\u001b[39m np\u001b[39m.\u001b[39mlinspace(\u001b[39m0\u001b[39m,\u001b[39mlen\u001b[39m((k_value[i])),\u001b[39mlen\u001b[39m(k_value[i]))\n\u001b[1;32m----> 3\u001b[0m     plt\u001b[39m.\u001b[39;49mplot(simtid[i],k_value[i], label \u001b[39m=\u001b[39;49m \u001b[39m'\u001b[39;49m\u001b[39mr_fuel = \u001b[39;49m\u001b[39m'\u001b[39;49m\u001b[39m+\u001b[39;49m\u001b[39mstr\u001b[39;49m(\u001b[39mround\u001b[39;49m(np\u001b[39m.\u001b[39;49mlinspace(minr,maxr,antal)[i],\u001b[39m2\u001b[39;49m)))\n\u001b[0;32m      4\u001b[0m plt\u001b[39m.\u001b[39mlegend()\n\u001b[0;32m      5\u001b[0m plt\u001b[39m.\u001b[39maxhline(y \u001b[39m=\u001b[39m \u001b[39m1\u001b[39m, color \u001b[39m=\u001b[39m \u001b[39m'\u001b[39m\u001b[39mblack\u001b[39m\u001b[39m'\u001b[39m, linestyle \u001b[39m=\u001b[39m \u001b[39m'\u001b[39m\u001b[39m-\u001b[39m\u001b[39m'\u001b[39m, label \u001b[39m=\u001b[39m \u001b[39m'\u001b[39m\u001b[39mk = 1\u001b[39m\u001b[39m'\u001b[39m)\n",
      "File \u001b[1;32mc:\\Users\\chril\\AppData\\Local\\Programs\\Python\\Python311\\Lib\\site-packages\\matplotlib\\pyplot.py:2740\u001b[0m, in \u001b[0;36mplot\u001b[1;34m(scalex, scaley, data, *args, **kwargs)\u001b[0m\n\u001b[0;32m   2738\u001b[0m \u001b[39m@_copy_docstring_and_deprecators\u001b[39m(Axes\u001b[39m.\u001b[39mplot)\n\u001b[0;32m   2739\u001b[0m \u001b[39mdef\u001b[39;00m \u001b[39mplot\u001b[39m(\u001b[39m*\u001b[39margs, scalex\u001b[39m=\u001b[39m\u001b[39mTrue\u001b[39;00m, scaley\u001b[39m=\u001b[39m\u001b[39mTrue\u001b[39;00m, data\u001b[39m=\u001b[39m\u001b[39mNone\u001b[39;00m, \u001b[39m*\u001b[39m\u001b[39m*\u001b[39mkwargs):\n\u001b[1;32m-> 2740\u001b[0m     \u001b[39mreturn\u001b[39;00m gca()\u001b[39m.\u001b[39;49mplot(\n\u001b[0;32m   2741\u001b[0m         \u001b[39m*\u001b[39;49margs, scalex\u001b[39m=\u001b[39;49mscalex, scaley\u001b[39m=\u001b[39;49mscaley,\n\u001b[0;32m   2742\u001b[0m         \u001b[39m*\u001b[39;49m\u001b[39m*\u001b[39;49m({\u001b[39m\"\u001b[39;49m\u001b[39mdata\u001b[39;49m\u001b[39m\"\u001b[39;49m: data} \u001b[39mif\u001b[39;49;00m data \u001b[39mis\u001b[39;49;00m \u001b[39mnot\u001b[39;49;00m \u001b[39mNone\u001b[39;49;00m \u001b[39melse\u001b[39;49;00m {}), \u001b[39m*\u001b[39;49m\u001b[39m*\u001b[39;49mkwargs)\n",
      "File \u001b[1;32mc:\\Users\\chril\\AppData\\Local\\Programs\\Python\\Python311\\Lib\\site-packages\\matplotlib\\axes\\_axes.py:1662\u001b[0m, in \u001b[0;36mAxes.plot\u001b[1;34m(self, scalex, scaley, data, *args, **kwargs)\u001b[0m\n\u001b[0;32m   1419\u001b[0m \u001b[39m\"\"\"\u001b[39;00m\n\u001b[0;32m   1420\u001b[0m \u001b[39mPlot y versus x as lines and/or markers.\u001b[39;00m\n\u001b[0;32m   1421\u001b[0m \n\u001b[1;32m   (...)\u001b[0m\n\u001b[0;32m   1659\u001b[0m \u001b[39m(``'green'``) or hex strings (``'#008000'``).\u001b[39;00m\n\u001b[0;32m   1660\u001b[0m \u001b[39m\"\"\"\u001b[39;00m\n\u001b[0;32m   1661\u001b[0m kwargs \u001b[39m=\u001b[39m cbook\u001b[39m.\u001b[39mnormalize_kwargs(kwargs, mlines\u001b[39m.\u001b[39mLine2D)\n\u001b[1;32m-> 1662\u001b[0m lines \u001b[39m=\u001b[39m [\u001b[39m*\u001b[39m\u001b[39mself\u001b[39m\u001b[39m.\u001b[39m_get_lines(\u001b[39m*\u001b[39margs, data\u001b[39m=\u001b[39mdata, \u001b[39m*\u001b[39m\u001b[39m*\u001b[39mkwargs)]\n\u001b[0;32m   1663\u001b[0m \u001b[39mfor\u001b[39;00m line \u001b[39min\u001b[39;00m lines:\n\u001b[0;32m   1664\u001b[0m     \u001b[39mself\u001b[39m\u001b[39m.\u001b[39madd_line(line)\n",
      "File \u001b[1;32mc:\\Users\\chril\\AppData\\Local\\Programs\\Python\\Python311\\Lib\\site-packages\\matplotlib\\axes\\_base.py:311\u001b[0m, in \u001b[0;36m_process_plot_var_args.__call__\u001b[1;34m(self, data, *args, **kwargs)\u001b[0m\n\u001b[0;32m    309\u001b[0m     this \u001b[39m+\u001b[39m\u001b[39m=\u001b[39m args[\u001b[39m0\u001b[39m],\n\u001b[0;32m    310\u001b[0m     args \u001b[39m=\u001b[39m args[\u001b[39m1\u001b[39m:]\n\u001b[1;32m--> 311\u001b[0m \u001b[39myield from\u001b[39;00m \u001b[39mself\u001b[39;49m\u001b[39m.\u001b[39;49m_plot_args(\n\u001b[0;32m    312\u001b[0m     this, kwargs, ambiguous_fmt_datakey\u001b[39m=\u001b[39;49mambiguous_fmt_datakey)\n",
      "File \u001b[1;32mc:\\Users\\chril\\AppData\\Local\\Programs\\Python\\Python311\\Lib\\site-packages\\matplotlib\\axes\\_base.py:504\u001b[0m, in \u001b[0;36m_process_plot_var_args._plot_args\u001b[1;34m(self, tup, kwargs, return_kwargs, ambiguous_fmt_datakey)\u001b[0m\n\u001b[0;32m    501\u001b[0m     \u001b[39mself\u001b[39m\u001b[39m.\u001b[39maxes\u001b[39m.\u001b[39myaxis\u001b[39m.\u001b[39mupdate_units(y)\n\u001b[0;32m    503\u001b[0m \u001b[39mif\u001b[39;00m x\u001b[39m.\u001b[39mshape[\u001b[39m0\u001b[39m] \u001b[39m!=\u001b[39m y\u001b[39m.\u001b[39mshape[\u001b[39m0\u001b[39m]:\n\u001b[1;32m--> 504\u001b[0m     \u001b[39mraise\u001b[39;00m \u001b[39mValueError\u001b[39;00m(\u001b[39mf\u001b[39m\u001b[39m\"\u001b[39m\u001b[39mx and y must have same first dimension, but \u001b[39m\u001b[39m\"\u001b[39m\n\u001b[0;32m    505\u001b[0m                      \u001b[39mf\u001b[39m\u001b[39m\"\u001b[39m\u001b[39mhave shapes \u001b[39m\u001b[39m{\u001b[39;00mx\u001b[39m.\u001b[39mshape\u001b[39m}\u001b[39;00m\u001b[39m and \u001b[39m\u001b[39m{\u001b[39;00my\u001b[39m.\u001b[39mshape\u001b[39m}\u001b[39;00m\u001b[39m\"\u001b[39m)\n\u001b[0;32m    506\u001b[0m \u001b[39mif\u001b[39;00m x\u001b[39m.\u001b[39mndim \u001b[39m>\u001b[39m \u001b[39m2\u001b[39m \u001b[39mor\u001b[39;00m y\u001b[39m.\u001b[39mndim \u001b[39m>\u001b[39m \u001b[39m2\u001b[39m:\n\u001b[0;32m    507\u001b[0m     \u001b[39mraise\u001b[39;00m \u001b[39mValueError\u001b[39;00m(\u001b[39mf\u001b[39m\u001b[39m\"\u001b[39m\u001b[39mx and y can be no greater than 2D, but have \u001b[39m\u001b[39m\"\u001b[39m\n\u001b[0;32m    508\u001b[0m                      \u001b[39mf\u001b[39m\u001b[39m\"\u001b[39m\u001b[39mshapes \u001b[39m\u001b[39m{\u001b[39;00mx\u001b[39m.\u001b[39mshape\u001b[39m}\u001b[39;00m\u001b[39m and \u001b[39m\u001b[39m{\u001b[39;00my\u001b[39m.\u001b[39mshape\u001b[39m}\u001b[39;00m\u001b[39m\"\u001b[39m)\n",
      "\u001b[1;31mValueError\u001b[0m: x and y must have same first dimension, but have shapes (746,) and (747,)"
     ]
    },
    {
     "data": {
      "image/png": "[encoded data removed]",
      "text/plain": [
       "<Figure size 640x480 with 1 Axes>"
      ]
     },
     "metadata": {},
     "output_type": "display_data"
    }
   ],
   "source": [
    "for i in range(len(k_value)):\n",
    "    X = np.linspace(0,len((k_value[i])),len(k_value[i]))\n",
    "    plt.plot(simtid[i],k_value[i], label = 'r_fuel = '+str(round(np.linspace(minr,maxr,antal)[i],2)))\n",
    "plt.legend()\n",
    "plt.axhline(y = 1, color = 'black', linestyle = '-', label = 'k = 1')\n",
    "plt.ylabel('k-værdier')\n",
    "plt.xlabel('tid')\n",
    "plt.ylim(0.5,3.7)\n",
    "plt.show()\n",
    "\n",
    "# Y = []\n",
    "# for i in range(antal):\n",
    "#     Y.append(k_value[i][-1])\n",
    "# plt.plot(np.linspace(minr,maxr,antal),Y, '.')\n",
    "# plt.axhline(y = 1, color = 'black', linestyle = '-', label = 'k = 1')\n",
    "# plt.ylabel('k-værdier')\n",
    "# plt.xlabel('r_fuel')\n",
    "# plt.legend()"
   ]
  },
  {
   "cell_type": "code",
   "execution_count": 27,
   "metadata": {},
   "outputs": [
    {
     "ename": "IndexError",
     "evalue": "list index out of range",
     "output_type": "error",
     "traceback": [
      "\u001b[1;31m---------------------------------------------------------------------------\u001b[0m",
      "\u001b[1;31mIndexError\u001b[0m                                Traceback (most recent call last)",
      "Cell \u001b[1;32mIn[27], line 2\u001b[0m\n\u001b[0;32m      1\u001b[0m \u001b[39mfor\u001b[39;00m i \u001b[39min\u001b[39;00m \u001b[39mrange\u001b[39m(antal):\n\u001b[1;32m----> 2\u001b[0m     kværdier[i] \u001b[39m=\u001b[39m np\u001b[39m.\u001b[39mmean(kværdier[i])\n\u001b[0;32m      3\u001b[0m plt\u001b[39m.\u001b[39mplot(np\u001b[39m.\u001b[39mlinspace(minr,maxr,antal),kværdier, \u001b[39m'\u001b[39m\u001b[39m.\u001b[39m\u001b[39m'\u001b[39m)\n\u001b[0;32m      4\u001b[0m plt\u001b[39m.\u001b[39maxhline(y \u001b[39m=\u001b[39m \u001b[39m1\u001b[39m, color \u001b[39m=\u001b[39m \u001b[39m'\u001b[39m\u001b[39mblack\u001b[39m\u001b[39m'\u001b[39m, linestyle \u001b[39m=\u001b[39m \u001b[39m'\u001b[39m\u001b[39m-\u001b[39m\u001b[39m'\u001b[39m, label \u001b[39m=\u001b[39m \u001b[39m'\u001b[39m\u001b[39mk = 1\u001b[39m\u001b[39m'\u001b[39m)\n",
      "\u001b[1;31mIndexError\u001b[0m: list index out of range"
     ]
    }
   ],
   "source": [
    "for i in range(antal):\n",
    "    kværdier[i] = np.mean(kværdier[i])\n",
    "plt.plot(np.linspace(minr,maxr,antal),kværdier, '.')\n",
    "plt.axhline(y = 1, color = 'black', linestyle = '-', label = 'k = 1')\n",
    "plt.ylabel('k-værdier')\n",
    "plt.xlabel('r_fuel')"
   ]
  },
  {
   "attachments": {},
   "cell_type": "markdown",
   "metadata": {},
   "source": [
    "<h1> Simulationen"
   ]
  },
  {
   "cell_type": "code",
   "execution_count": null,
   "metadata": {},
   "outputs": [],
   "source": []
  },
  {
   "cell_type": "code",
   "execution_count": null,
   "metadata": {},
   "outputs": [
    {
     "name": "stdout",
     "output_type": "stream",
     "text": [
      "Antal interaktioner: 253\n",
      "Energi frigivet: [10587.93636093] MeV\n",
      "Antal neutroner tilbage:  113\n",
      "Antal fissionsreaktioner: 59.5\n",
      "Antal neutroner der har slippet ud:  59\n",
      "Antal scattering events:  193\n",
      "Antal Neutron capture events:  1\n"
     ]
    },
    {
     "name": "stderr",
     "output_type": "stream",
     "text": [
      "c:\\Users\\chril\\AppData\\Local\\Programs\\Python\\Python311\\Lib\\site-packages\\numpy\\core\\fromnumeric.py:86: VisibleDeprecationWarning: Creating an ndarray from ragged nested sequences (which is a list-or-tuple of lists-or-tuples-or ndarrays with different lengths or shapes) is deprecated. If you meant to do this, you must specify 'dtype=object' when creating the ndarray.\n",
      "  return ufunc.reduce(obj, axis, dtype, out, **passkwargs)\n"
     ]
    },
    {
     "data": {
      "image/png": "[encoded data removed]",
      "text/plain": [
       "<Figure size 1400x600 with 1 Axes>"
      ]
     },
     "metadata": {},
     "output_type": "display_data"
    }
   ],
   "source": [
    "#print(Neutroner)\n",
    "#print(Datterkerner)\n",
    "print('Antal interaktioner:', len(Q))\n",
    "print('Energi frigivet: ' + str(np.sum(Q)) +' MeV')\n",
    "print('Antal neutroner tilbage: ',len(Neutroner))\n",
    "print('Antal fissionsreaktioner:', len(Datterkerner)/2)\n",
    "print('Antal neutroner der har slippet ud: ', len(Neutroner_ude))\n",
    "print('Antal scattering events: ', Scattering)\n",
    "print('Antal Neutron capture events: ', Capture)\n",
    "#print(Q)\n",
    "plt.figure(figsize=(14,6))\n",
    "plt.plot(Tid,Aktive_neutroner, label = 'Aktive neutroner')\n",
    "plt.plot(Tid,Ude_neutroner_t,label = 'Neutroner ude')\n",
    "plt.title('Simulations statistik')\n",
    "plt.xlabel('Tid $[s]$')\n",
    "plt.ylabel('Antal neutroner [N]')\n",
    "plt.legend()\n",
    "plt.show()"
   ]
  }
 ],
 "metadata": {
  "kernelspec": {
   "display_name": "base",
   "language": "python",
   "name": "python3"
  },
  "language_info": {
   "codemirror_mode": {
    "name": "ipython",
    "version": 3
   },
   "file_extension": ".py",
   "mimetype": "text/x-python",
   "name": "python",
   "nbconvert_exporter": "python",
   "pygments_lexer": "ipython3",
   "version": "3.11.1"
  },
  "orig_nbformat": 4,
  "vscode": {
   "interpreter": {
    "hash": "22dd39371fb964b21631e2a57cff6aa704caa753d03e9c55b16b4add00c8373e"
   }
  }
 },
 "nbformat": 4,
 "nbformat_minor": 2
}
